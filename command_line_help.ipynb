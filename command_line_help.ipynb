{
 "cells": [
  {
   "cell_type": "markdown",
   "id": "d583f684-76fe-497d-9ec9-22cf89a11d0a",
   "metadata": {},
   "source": [
    "# Fractopo Command-line Scripts \n",
    "\n",
    "This notebooks simply contains printed `--help` outputs of all `fractopo` command-line entrypoints (2021-09-22)."
   ]
  },
  {
   "cell_type": "code",
   "execution_count": 1,
   "id": "2ec119db-a382-4af2-962f-dbd3346000d3",
   "metadata": {
    "execution": {
     "iopub.execute_input": "2022-01-13T09:10:03.588984Z",
     "iopub.status.busy": "2022-01-13T09:10:03.587820Z",
     "iopub.status.idle": "2022-01-13T09:10:05.591989Z",
     "shell.execute_reply": "2022-01-13T09:10:05.591497Z"
    }
   },
   "outputs": [
    {
     "name": "stdout",
     "output_type": "stream",
     "text": [
      "Usage: fractopo [OPTIONS] COMMAND [ARGS]...\r\n",
      "\r\n",
      "  Use fractopo command-line utilities.\r\n",
      "\r\n",
      "Options:\r\n",
      "  --logging-level [DEBUG|INFO|WARNING|ERROR|CRITICAL]\r\n",
      "                                  [default: WARNING]\r\n",
      "  --json-indent INTEGER           [default: 1]\r\n",
      "  --install-completion [bash|zsh|fish|powershell|pwsh]\r\n",
      "                                  Install completion for the specified shell.\r\n",
      "  --show-completion [bash|zsh|fish|powershell|pwsh]\r\n",
      "                                  Show completion for the specified shell, to\r\n",
      "                                  copy it or customize the installation.\r\n",
      "\r\n",
      "  --help                          Show this message and exit.\r\n",
      "\r\n",
      "Commands:\r\n",
      "  info           Print out information about fractopo installation and...\r\n",
      "  network        Analyze the geometry and topology of trace network.\r\n",
      "  tracevalidate  Validate trace data delineated by target area data.\r\n"
     ]
    }
   ],
   "source": [
    "!fractopo --help"
   ]
  },
  {
   "cell_type": "code",
   "execution_count": 2,
   "id": "d239dbe4-1a24-4cb3-aba3-6d5ebd59e13b",
   "metadata": {
    "execution": {
     "iopub.execute_input": "2022-01-13T09:10:05.597239Z",
     "iopub.status.busy": "2022-01-13T09:10:05.595924Z",
     "iopub.status.idle": "2022-01-13T09:10:07.614349Z",
     "shell.execute_reply": "2022-01-13T09:10:07.613911Z"
    }
   },
   "outputs": [
    {
     "name": "stdout",
     "output_type": "stream",
     "text": [
      "Usage: fractopo tracevalidate [OPTIONS] TRACE_FILE AREA_FILE\r\n",
      "\r\n",
      "  Validate trace data delineated by target area data.\r\n",
      "\r\n",
      "  If allow_fix is True, some automatic fixing will be done to e.g. convert\r\n",
      "  MultiLineStrings to LineStrings.\r\n",
      "\r\n",
      "Arguments:\r\n",
      "  TRACE_FILE  Path to lineament or fracture trace data.  [required]\r\n",
      "  AREA_FILE   Path to target area data that delineates trace data.  [required]\r\n",
      "\r\n",
      "Options:\r\n",
      "  --allow-fix, --fix              Allow the direct modification of trace file\r\n",
      "                                  to fix errors.  [default: True]\r\n",
      "\r\n",
      "  --summary / --no-summary        Print summary of validation results.\r\n",
      "                                  [default: True]\r\n",
      "\r\n",
      "  --snap-threshold FLOAT          Distance threshold used to estimate whether\r\n",
      "                                  e.g. a trace abuts in another.  [default:\r\n",
      "                                  0.001]\r\n",
      "\r\n",
      "  --output PATH                   Where to save validated output trace data.\r\n",
      "  --only-area-validation / --no-only-area-validation\r\n",
      "                                  Only validate the area boundary snapping.\r\n",
      "                                  [default: False]\r\n",
      "\r\n",
      "  --allow-empty-area / --no-allow-empty-area\r\n",
      "                                  Allow empty areas to validation.  [default:\r\n",
      "                                  True]\r\n",
      "\r\n",
      "  --help                          Show this message and exit.\r\n"
     ]
    }
   ],
   "source": [
    "!fractopo tracevalidate --help"
   ]
  },
  {
   "cell_type": "code",
   "execution_count": 3,
   "id": "1f57ca4f-87e0-49b9-b031-99b2825e66c2",
   "metadata": {
    "execution": {
     "iopub.execute_input": "2022-01-13T09:10:07.620571Z",
     "iopub.status.busy": "2022-01-13T09:10:07.620155Z",
     "iopub.status.idle": "2022-01-13T09:10:10.492328Z",
     "shell.execute_reply": "2022-01-13T09:10:10.492664Z"
    }
   },
   "outputs": [
    {
     "name": "stdout",
     "output_type": "stream",
     "text": [
      "Usage: fractopo network [OPTIONS] TRACE_FILE AREA_FILE\r\n",
      "\r\n",
      "  Analyze the geometry and topology of trace network.\r\n",
      "\r\n",
      "Arguments:\r\n",
      "  TRACE_FILE  Path to lineament or fracture trace data.  [required]\r\n",
      "  AREA_FILE   Path to target area data that delineates trace data.  [required]\r\n",
      "\r\n",
      "Options:\r\n",
      "  --snap-threshold FLOAT          Distance threshold used to estimate whether\r\n",
      "                                  e.g. a trace abuts in another.  [default:\r\n",
      "                                  0.001]\r\n",
      "\r\n",
      "  --determine-branches-nodes / --no-determine-branches-nodes\r\n",
      "                                  Whether to determine branches and nodes as\r\n",
      "                                  part of analysis. Recommended.  [default:\r\n",
      "                                  True]\r\n",
      "\r\n",
      "  --name TEXT                     Name for Network. Used when saving outputs\r\n",
      "                                  and as plot titles.\r\n",
      "\r\n",
      "  --circular-target-area / --no-circular-target-area\r\n",
      "                                  Is/are target area(s) circles?  [default:\r\n",
      "                                  False]\r\n",
      "\r\n",
      "  --truncate-traces / --no-truncate-traces\r\n",
      "                                  Whether to cut traces at target area\r\n",
      "                                  boundary. Recommended.  [default: True]\r\n",
      "\r\n",
      "  --censoring-area PATH           Path to area data that delineates censored\r\n",
      "                                  areas within target areas.\r\n",
      "\r\n",
      "  --branches-output PATH          Where to save branch data.\r\n",
      "  --nodes-output PATH             Where to save node data.\r\n",
      "  --general-output PATH           Where to save general network analysis\r\n",
      "                                  outputs e.g. plots.\r\n",
      "\r\n",
      "  --parameters-output PATH        Where to save numerical parameter data from\r\n",
      "                                  analysis.\r\n",
      "\r\n",
      "  --help                          Show this message and exit.\r\n"
     ]
    }
   ],
   "source": [
    "!fractopo network --help"
   ]
  }
 ],
 "metadata": {
  "kernelspec": {
   "display_name": "Python 3 (ipykernel)",
   "language": "python",
   "name": "python3"
  },
  "language_info": {
   "codemirror_mode": {
    "name": "ipython",
    "version": 3
   },
   "file_extension": ".py",
   "mimetype": "text/x-python",
   "name": "python",
   "nbconvert_exporter": "python",
   "pygments_lexer": "ipython3",
   "version": "3.8.12"
  }
 },
 "nbformat": 4,
 "nbformat_minor": 5
}
